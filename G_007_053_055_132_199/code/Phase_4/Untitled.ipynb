{
 "cells": [
  {
   "cell_type": "code",
   "execution_count": 1,
   "id": "19b9acfb-cd27-4ac7-96d8-3c6b1e311640",
   "metadata": {},
   "outputs": [
    {
     "name": "stdout",
     "output_type": "stream",
     "text": [
      "[INFO] Loading model from:\n",
      "/home/karthik/ML_Project/G_007_053_055_132_199/code/Phase_2/stage_classifier_pipeline.pkl\n",
      "[INFO] Phase-3 pipeline loaded from /home/karthik/ML_Project/G_007_053_055_132_199/code/Phase_3/phase3_regressor_pipeline.pkl\n"
     ]
    }
   ],
   "source": [
    "# Phase_4/ipynb or .py — at the very top:\n",
    "\n",
    "import sys\n",
    "from pathlib import Path\n",
    "\n",
    "# 1) Add the project root (parent of Phase_1/2/3/4) to your module search path\n",
    "project_root = Path().resolve().parent\n",
    "sys.path.append(str(project_root))\n",
    "\n",
    "# 2) Now import your Phase-2 and Phase-3 pipelines\n",
    "from Phase_2 import Phase2Pipeline\n",
    "from Phase_3 import Phase3Pipeline\n",
    "\n",
    "# 3) Load the saved models\n",
    "clf_pipe = Phase2Pipeline.load(project_root / \"Phase_2\" / \"stage_classifier_pipeline.pkl\")\n",
    "reg_pipe = Phase3Pipeline.load(project_root / \"Phase_3\" / \"phase3_regressor_pipeline.pkl\")\n"
   ]
  }
 ],
 "metadata": {
  "kernelspec": {
   "display_name": "Python 3 (ipykernel)",
   "language": "python",
   "name": "python3"
  },
  "language_info": {
   "codemirror_mode": {
    "name": "ipython",
    "version": 3
   },
   "file_extension": ".py",
   "mimetype": "text/x-python",
   "name": "python",
   "nbconvert_exporter": "python",
   "pygments_lexer": "ipython3",
   "version": "3.12.3"
  }
 },
 "nbformat": 4,
 "nbformat_minor": 5
}
