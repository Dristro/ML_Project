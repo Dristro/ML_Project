{
 "cells": [
  {
   "cell_type": "code",
   "execution_count": 31,
   "id": "fc7d78b9-e106-45f2-a0f2-b911a01a5b89",
   "metadata": {
    "execution": {
     "iopub.execute_input": "2025-05-08T12:43:08.303720Z",
     "iopub.status.busy": "2025-05-08T12:43:08.303374Z",
     "iopub.status.idle": "2025-05-08T12:43:08.358059Z",
     "shell.execute_reply": "2025-05-08T12:43:08.357595Z",
     "shell.execute_reply.started": "2025-05-08T12:43:08.303695Z"
    }
   },
   "outputs": [],
   "source": [
    "import pandas as pd\n",
    "import numpy as np\n",
    "from sklearn.model_selection import train_test_split, GridSearchCV\n",
    "from sklearn.ensemble import RandomForestRegressor\n",
    "from sklearn.linear_model import Ridge\n",
    "from sklearn.svm import SVR\n",
    "from sklearn.metrics import mean_squared_error, mean_absolute_error, r2_score\n",
    "from sklearn.preprocessing import StandardScaler\n",
    "import matplotlib.pyplot as plt\n",
    "import seaborn as sns\n",
    "\n",
    "sns.set(style='whitegrid')\n",
    "\n",
    "# Load the data (replace with your actual file path)\n",
    "df = pd.read_csv(r'C:\\Users\\Rithv\\Github\\ML_Project\\G_007_053_055_132_199\\code\\Phase_1\\train_FD001_phase_1.csv')\n",
    "\n",
    "# Initial data cleaning (NOTE: Engine no is dropped here)\n",
    "#df = df.drop('Unnamed: 0', axis=1)\n",
    "df = df.drop([\"Engine no\"] + [f\"Operating {i}\" for i in range(1, 4)] + [f\"Sensor {i}\" for i in [1, 5, 6, 8, 10, 13, 16, 18, 19]], axis=1)\n"
   ]
  },
  {
   "cell_type": "code",
   "execution_count": 32,
   "id": "7937298c-aa0a-49f2-a3c9-d41f0c5015f2",
   "metadata": {
    "execution": {
     "iopub.execute_input": "2025-05-08T12:43:09.299522Z",
     "iopub.status.busy": "2025-05-08T12:43:09.299001Z",
     "iopub.status.idle": "2025-05-08T12:43:09.312210Z",
     "shell.execute_reply": "2025-05-08T12:43:09.311343Z",
     "shell.execute_reply.started": "2025-05-08T12:43:09.299493Z"
    }
   },
   "outputs": [
    {
     "data": {
      "text/html": [
       "<div>\n",
       "<style scoped>\n",
       "    .dataframe tbody tr th:only-of-type {\n",
       "        vertical-align: middle;\n",
       "    }\n",
       "\n",
       "    .dataframe tbody tr th {\n",
       "        vertical-align: top;\n",
       "    }\n",
       "\n",
       "    .dataframe thead th {\n",
       "        text-align: right;\n",
       "    }\n",
       "</style>\n",
       "<table border=\"1\" class=\"dataframe\">\n",
       "  <thead>\n",
       "    <tr style=\"text-align: right;\">\n",
       "      <th></th>\n",
       "      <th>Num cycles</th>\n",
       "      <th>Sensor 2</th>\n",
       "      <th>Sensor 3</th>\n",
       "      <th>Sensor 4</th>\n",
       "      <th>Sensor 7</th>\n",
       "      <th>Sensor 9</th>\n",
       "      <th>Sensor 11</th>\n",
       "      <th>Sensor 12</th>\n",
       "      <th>Sensor 14</th>\n",
       "      <th>Sensor 15</th>\n",
       "      <th>Sensor 17</th>\n",
       "      <th>Sensor 20</th>\n",
       "      <th>Sensor 21</th>\n",
       "      <th>Stage</th>\n",
       "    </tr>\n",
       "  </thead>\n",
       "  <tbody>\n",
       "    <tr>\n",
       "      <th>0</th>\n",
       "      <td>2</td>\n",
       "      <td>642.15</td>\n",
       "      <td>1591.82</td>\n",
       "      <td>1403.14</td>\n",
       "      <td>553.75</td>\n",
       "      <td>9044.07</td>\n",
       "      <td>47.49</td>\n",
       "      <td>522.28</td>\n",
       "      <td>8131.49</td>\n",
       "      <td>8.4318</td>\n",
       "      <td>392</td>\n",
       "      <td>39.00</td>\n",
       "      <td>23.4236</td>\n",
       "      <td>0</td>\n",
       "    </tr>\n",
       "    <tr>\n",
       "      <th>1</th>\n",
       "      <td>3</td>\n",
       "      <td>642.35</td>\n",
       "      <td>1587.99</td>\n",
       "      <td>1404.20</td>\n",
       "      <td>554.26</td>\n",
       "      <td>9052.94</td>\n",
       "      <td>47.27</td>\n",
       "      <td>522.42</td>\n",
       "      <td>8133.23</td>\n",
       "      <td>8.4178</td>\n",
       "      <td>390</td>\n",
       "      <td>38.95</td>\n",
       "      <td>23.3442</td>\n",
       "      <td>0</td>\n",
       "    </tr>\n",
       "    <tr>\n",
       "      <th>2</th>\n",
       "      <td>4</td>\n",
       "      <td>642.35</td>\n",
       "      <td>1582.79</td>\n",
       "      <td>1401.87</td>\n",
       "      <td>554.45</td>\n",
       "      <td>9049.48</td>\n",
       "      <td>47.13</td>\n",
       "      <td>522.86</td>\n",
       "      <td>8133.83</td>\n",
       "      <td>8.3682</td>\n",
       "      <td>392</td>\n",
       "      <td>38.88</td>\n",
       "      <td>23.3739</td>\n",
       "      <td>0</td>\n",
       "    </tr>\n",
       "    <tr>\n",
       "      <th>3</th>\n",
       "      <td>5</td>\n",
       "      <td>642.37</td>\n",
       "      <td>1582.85</td>\n",
       "      <td>1406.22</td>\n",
       "      <td>554.00</td>\n",
       "      <td>9055.15</td>\n",
       "      <td>47.28</td>\n",
       "      <td>522.19</td>\n",
       "      <td>8133.80</td>\n",
       "      <td>8.4294</td>\n",
       "      <td>393</td>\n",
       "      <td>38.90</td>\n",
       "      <td>23.4044</td>\n",
       "      <td>0</td>\n",
       "    </tr>\n",
       "    <tr>\n",
       "      <th>4</th>\n",
       "      <td>6</td>\n",
       "      <td>642.10</td>\n",
       "      <td>1584.47</td>\n",
       "      <td>1398.37</td>\n",
       "      <td>554.67</td>\n",
       "      <td>9049.68</td>\n",
       "      <td>47.16</td>\n",
       "      <td>521.68</td>\n",
       "      <td>8132.85</td>\n",
       "      <td>8.4108</td>\n",
       "      <td>391</td>\n",
       "      <td>38.98</td>\n",
       "      <td>23.3669</td>\n",
       "      <td>0</td>\n",
       "    </tr>\n",
       "  </tbody>\n",
       "</table>\n",
       "</div>"
      ],
      "text/plain": [
       "   Num cycles  Sensor 2  Sensor 3  Sensor 4  Sensor 7  Sensor 9  Sensor 11  \\\n",
       "0           2    642.15   1591.82   1403.14    553.75   9044.07      47.49   \n",
       "1           3    642.35   1587.99   1404.20    554.26   9052.94      47.27   \n",
       "2           4    642.35   1582.79   1401.87    554.45   9049.48      47.13   \n",
       "3           5    642.37   1582.85   1406.22    554.00   9055.15      47.28   \n",
       "4           6    642.10   1584.47   1398.37    554.67   9049.68      47.16   \n",
       "\n",
       "   Sensor 12  Sensor 14  Sensor 15  Sensor 17  Sensor 20  Sensor 21  Stage  \n",
       "0     522.28    8131.49     8.4318        392      39.00    23.4236      0  \n",
       "1     522.42    8133.23     8.4178        390      38.95    23.3442      0  \n",
       "2     522.86    8133.83     8.3682        392      38.88    23.3739      0  \n",
       "3     522.19    8133.80     8.4294        393      38.90    23.4044      0  \n",
       "4     521.68    8132.85     8.4108        391      38.98    23.3669      0  "
      ]
     },
     "execution_count": 32,
     "metadata": {},
     "output_type": "execute_result"
    }
   ],
   "source": [
    "#pd.set_option('display.max_columns', None)\n",
    "df.head()\n"
   ]
  },
  {
   "cell_type": "code",
   "execution_count": 33,
   "id": "90eb9c4d-a2b4-40d1-be86-23d3bd324ef9",
   "metadata": {
    "execution": {
     "iopub.execute_input": "2025-05-08T12:43:10.076578Z",
     "iopub.status.busy": "2025-05-08T12:43:10.076295Z",
     "iopub.status.idle": "2025-05-08T12:43:10.748787Z",
     "shell.execute_reply": "2025-05-08T12:43:10.748030Z",
     "shell.execute_reply.started": "2025-05-08T12:43:10.076559Z"
    }
   },
   "outputs": [
    {
     "name": "stdout",
     "output_type": "stream",
     "text": [
      "Average time to next stage calculated (WITHOUT Engine no).\n"
     ]
    }
   ],
   "source": [
    "def compute_avg_time_to_next_stage_optimized(df):\n",
    "    df = df.sort_values(['Num cycles'])  # keep your original sort\n",
    "    df['time_to_next_stage'] = np.nan  # initialize\n",
    "\n",
    "    avg_time_to_next = {}\n",
    "\n",
    "    # precompute cycles per stage\n",
    "    stage_cycles = {\n",
    "        stage: df.loc[df['Stage'] == stage, 'Num cycles'].values\n",
    "        for stage in df['Stage'].unique()\n",
    "    }\n",
    "\n",
    "    for stage in df['Stage'].unique():\n",
    "        next_stage = stage + 1\n",
    "        if next_stage in stage_cycles:\n",
    "            cycles_stage = stage_cycles[stage]\n",
    "            cycles_next_stage = stage_cycles[next_stage]\n",
    "            \n",
    "            # vectorized broadcasting: compute all pairs difference\n",
    "            diff_matrix = cycles_next_stage.reshape(1, -1) - cycles_stage.reshape(-1, 1)\n",
    "            \n",
    "            # keep only positive diffs\n",
    "            valid_diffs = diff_matrix[diff_matrix > 0]\n",
    "            \n",
    "            if valid_diffs.size > 0:\n",
    "                avg_time = np.mean(valid_diffs)\n",
    "                avg_time_to_next[stage] = avg_time\n",
    "\n",
    "    # assign back to dataframe\n",
    "    df['time_to_next_stage'] = df['Stage'].map(avg_time_to_next)\n",
    "\n",
    "    return df\n",
    "\n",
    "\n",
    "df = compute_avg_time_to_next_stage_optimized(df)\n",
    "df = df.fillna(0)  # Handle potential NaNs\n",
    "print(\"Average time to next stage calculated (WITHOUT Engine no).\")"
   ]
  },
  {
   "cell_type": "code",
   "execution_count": 34,
   "id": "41495083-3aaa-44f7-b47b-10835e89282e",
   "metadata": {
    "execution": {
     "iopub.execute_input": "2025-05-08T12:43:11.865021Z",
     "iopub.status.busy": "2025-05-08T12:43:11.864546Z",
     "iopub.status.idle": "2025-05-08T12:43:11.898489Z",
     "shell.execute_reply": "2025-05-08T12:43:11.898015Z",
     "shell.execute_reply.started": "2025-05-08T12:43:11.864994Z"
    }
   },
   "outputs": [
    {
     "name": "stdout",
     "output_type": "stream",
     "text": [
      "Feature engineering done (WITHOUT Engine no - CAUTION!).\n"
     ]
    }
   ],
   "source": [
    "# Feature Engineering\n",
    "for sensor in [f'Sensor {i}' for i in range(2, 22) if f'Sensor {i}' in df.columns]:\n",
    "    df[f'{sensor}_rolling_mean_10'] = df[sensor].rolling(window=10, min_periods=1).mean()\n",
    "    df[f'{sensor}_diff'] = df[sensor].diff()\n",
    "    df[f'{sensor}_lag_1'] = df[sensor].shift(1)\n",
    "\n",
    "df = df.fillna(0)\n",
    "print(\"Feature engineering done (WITHOUT Engine no - CAUTION!).\")"
   ]
  },
  {
   "cell_type": "code",
   "execution_count": 35,
   "id": "be39fec8-393d-4f52-a8a4-91cc51817c42",
   "metadata": {
    "execution": {
     "iopub.execute_input": "2025-05-08T12:43:13.116926Z",
     "iopub.status.busy": "2025-05-08T12:43:13.116482Z",
     "iopub.status.idle": "2025-05-08T12:43:13.156140Z",
     "shell.execute_reply": "2025-05-08T12:43:13.155686Z",
     "shell.execute_reply.started": "2025-05-08T12:43:13.116902Z"
    }
   },
   "outputs": [
    {
     "name": "stdout",
     "output_type": "stream",
     "text": [
      "Data scaled.\n"
     ]
    }
   ],
   "source": [
    "# Data Preprocessing: Scaling\n",
    "numerical_cols = [col for col in df.columns if df[col].dtype != 'object' and col not in ['Num cycles', 'time_to_next_stage', 'Stage']]\n",
    "scaler = StandardScaler()\n",
    "df[numerical_cols] = scaler.fit_transform(df[numerical_cols])\n",
    "\n",
    "print(\"Data scaled.\")"
   ]
  },
  {
   "cell_type": "code",
   "execution_count": 36,
   "id": "b69f48cc-adde-4d09-8e32-86b1366bdf38",
   "metadata": {
    "execution": {
     "iopub.execute_input": "2025-05-08T12:43:15.940620Z",
     "iopub.status.busy": "2025-05-08T12:43:15.940157Z",
     "iopub.status.idle": "2025-05-08T12:43:15.964678Z",
     "shell.execute_reply": "2025-05-08T12:43:15.964061Z",
     "shell.execute_reply.started": "2025-05-08T12:43:15.940592Z"
    }
   },
   "outputs": [
    {
     "name": "stdout",
     "output_type": "stream",
     "text": [
      "Data prepared for modeling.\n"
     ]
    }
   ],
   "source": [
    "# Data Preparation for Modeling\n",
    "X = df.drop(['time_to_next_stage', 'Num cycles', 'Stage'], axis=1)\n",
    "y = df['time_to_next_stage']\n",
    "\n",
    "X_train, X_test, y_train, y_test = train_test_split(X, y, test_size=0.2, random_state=42)\n",
    "\n",
    "print(\"Data prepared for modeling.\")"
   ]
  },
  {
   "cell_type": "code",
   "execution_count": 37,
   "id": "83a27e7a-62ec-4991-9003-036aae37e28d",
   "metadata": {
    "execution": {
     "iopub.execute_input": "2025-05-08T12:43:17.260884Z",
     "iopub.status.busy": "2025-05-08T12:43:17.260451Z",
     "iopub.status.idle": "2025-05-08T12:43:17.265896Z",
     "shell.execute_reply": "2025-05-08T12:43:17.265030Z",
     "shell.execute_reply.started": "2025-05-08T12:43:17.260856Z"
    }
   },
   "outputs": [
    {
     "name": "stdout",
     "output_type": "stream",
     "text": [
      "X_train shape: (16504, 48)\n"
     ]
    }
   ],
   "source": [
    "print(\"X_train shape:\", X_train.shape)"
   ]
  },
  {
   "cell_type": "code",
   "execution_count": 38,
   "id": "087e57b2-a705-42ac-b683-ac4fd9b5bf0f",
   "metadata": {
    "execution": {
     "iopub.execute_input": "2025-05-08T12:43:19.285210Z",
     "iopub.status.busy": "2025-05-08T12:43:19.284681Z",
     "iopub.status.idle": "2025-05-08T12:43:22.257046Z",
     "shell.execute_reply": "2025-05-08T12:43:22.256471Z",
     "shell.execute_reply.started": "2025-05-08T12:43:19.285178Z"
    }
   },
   "outputs": [
    {
     "name": "stdout",
     "output_type": "stream",
     "text": [
      "RMSE: 10.247284853648168, MAE: 6.610676435321256, R-squared: 0.8239223534008356\n"
     ]
    },
    {
     "data": {
      "image/png": "[encoded data removed]",
      "text/plain": [
       "<Figure size 800x600 with 1 Axes>"
      ]
     },
     "metadata": {},
     "output_type": "display_data"
    }
   ],
   "source": [
    "# Model: Random Forest Regressor (Basic)\n",
    "rf = RandomForestRegressor(\n",
    "    n_estimators=50,        # fewer trees (50 instead of 100) → faster\n",
    "    max_depth=10,           # limit depth → faster, prevents overfitting\n",
    "    n_jobs=-1,              # parallel processing → use all CPU cores\n",
    "    random_state=42\n",
    ")\n",
    "rf.fit(X_train, y_train)\n",
    "\n",
    "y_pred_rf = rf.predict(X_test)\n",
    "\n",
    "rmse_rf = np.sqrt(mean_squared_error(y_test, y_pred_rf))\n",
    "mae_rf = mean_absolute_error(y_test, y_pred_rf)\n",
    "r2_rf = r2_score(y_test, y_pred_rf)\n",
    "\n",
    "\n",
    "print(f\"RMSE: {rmse_rf}, MAE: {mae_rf}, R-squared: {r2_rf}\")\n",
    "\n",
    "# Plotting\n",
    "plt.figure(figsize=(8, 6))\n",
    "plt.scatter(y_test, y_pred_rf, alpha=0.5)\n",
    "plt.plot([y_test.min(), y_test.max()], [y_test.min(), y_test.max()], 'r--')  # Ideal prediction line\n",
    "plt.xlabel(\"Actual Time to Next Stage\")\n",
    "plt.ylabel(\"Predicted Time to Next Stage\")\n",
    "plt.title(\"Random Forest: Actual vs. Predicted\")\n",
    "plt.show()"
   ]
  },
  {
   "cell_type": "code",
   "execution_count": 39,
   "id": "d69051dc-e9c6-46b8-8fbb-115c810b6a67",
   "metadata": {
    "execution": {
     "iopub.execute_input": "2025-05-08T12:43:24.473235Z",
     "iopub.status.busy": "2025-05-08T12:43:24.472703Z",
     "iopub.status.idle": "2025-05-08T12:43:24.481332Z",
     "shell.execute_reply": "2025-05-08T12:43:24.480537Z",
     "shell.execute_reply.started": "2025-05-08T12:43:24.473208Z"
    }
   },
   "outputs": [
    {
     "name": "stdout",
     "output_type": "stream",
     "text": [
      "0.0 90.89539293307864\n"
     ]
    }
   ],
   "source": [
    "print(df['time_to_next_stage'].min(), df['time_to_next_stage'].max())"
   ]
  },
  {
   "cell_type": "code",
   "execution_count": 40,
   "id": "1dcf5fe8-c9f8-4a5e-a09a-7b893e218428",
   "metadata": {
    "execution": {
     "iopub.execute_input": "2025-05-08T12:43:26.847403Z",
     "iopub.status.busy": "2025-05-08T12:43:26.846782Z",
     "iopub.status.idle": "2025-05-08T12:43:26.870041Z",
     "shell.execute_reply": "2025-05-08T12:43:26.869455Z",
     "shell.execute_reply.started": "2025-05-08T12:43:26.847369Z"
    }
   },
   "outputs": [
    {
     "name": "stdout",
     "output_type": "stream",
     "text": [
      "Ridge Regression Trained (Basic)\n",
      "RMSE: 21.73938620936073, MAE: 17.20804751910605, R-squared: 0.20753304209828116\n",
      "The reason we get such a bad value of R-Squared is because of the skewness of the target value\n"
     ]
    }
   ],
   "source": [
    "# Model: Ridge Regression (Basic)\n",
    "ridge = Ridge(random_state=42)  # Basic parameters\n",
    "ridge.fit(X_train, y_train)\n",
    "\n",
    "y_pred_ridge = ridge.predict(X_test)\n",
    "\n",
    "rmse_ridge = np.sqrt(mean_squared_error(y_test, y_pred_ridge))\n",
    "mae_ridge = mean_absolute_error(y_test, y_pred_ridge)\n",
    "r2_ridge = r2_score(y_test, y_pred_ridge)\n",
    "\n",
    "print(\"Ridge Regression Trained (Basic)\")\n",
    "\n",
    "print(f\"RMSE: {rmse_ridge}, MAE: {mae_ridge}, R-squared: {r2_ridge}\")\n",
    "print(\"The reason we get such a bad value of R-Squared is because of the skewness of the target value\")"
   ]
  },
  {
   "cell_type": "code",
   "execution_count": 41,
   "id": "76fb0f01-7356-41e1-87a4-29abfe55fbef",
   "metadata": {
    "execution": {
     "iopub.execute_input": "2025-05-08T12:43:28.595741Z",
     "iopub.status.busy": "2025-05-08T12:43:28.595487Z",
     "iopub.status.idle": "2025-05-08T12:43:44.136750Z",
     "shell.execute_reply": "2025-05-08T12:43:44.136307Z",
     "shell.execute_reply.started": "2025-05-08T12:43:28.595725Z"
    }
   },
   "outputs": [
    {
     "name": "stdout",
     "output_type": "stream",
     "text": [
      "RMSE: 11.04582978339315, MAE: 6.6826756470985265, R-squared: 0.7954105192621133\n"
     ]
    },
    {
     "data": {
      "image/png": "[encoded data removed]",
      "text/plain": [
       "<Figure size 800x600 with 1 Axes>"
      ]
     },
     "metadata": {},
     "output_type": "display_data"
    }
   ],
   "source": [
    "# Model: Support Vector Regression (SVR) (Basic)\n",
    "svr = SVR()  # Basic parameters\n",
    "svr.fit(X_train, y_train)\n",
    "\n",
    "y_pred_svr = svr.predict(X_test)\n",
    "\n",
    "rmse_svr = np.sqrt(mean_squared_error(y_test, y_pred_svr))\n",
    "mae_svr = mean_absolute_error(y_test, y_pred_svr)\n",
    "r2_svr = r2_score(y_test, y_pred_svr)\n",
    "\n",
    "\n",
    "print(f\"RMSE: {rmse_svr}, MAE: {mae_svr}, R-squared: {r2_svr}\")\n",
    "# Plotting\n",
    "plt.figure(figsize=(8, 6))\n",
    "plt.scatter(y_test, y_pred_svr, alpha=0.5)\n",
    "plt.plot([y_test.min(), y_test.max()], [y_test.min(), y_test.max()], 'r--')  # Ideal prediction line\n",
    "plt.xlabel(\"Actual Time to Next Stage\")\n",
    "plt.ylabel(\"Predicted Time to Next Stage\")\n",
    "plt.title(\"SVR: Actual vs. Predicted\")\n",
    "plt.show()"
   ]
  },
  {
   "cell_type": "code",
   "execution_count": 42,
   "id": "bc2f0597-ca2e-4919-a006-fc3b8e510be1",
   "metadata": {
    "execution": {
     "iopub.execute_input": "2025-05-08T12:44:04.080484Z",
     "iopub.status.busy": "2025-05-08T12:44:04.079766Z",
     "iopub.status.idle": "2025-05-08T12:44:04.086621Z",
     "shell.execute_reply": "2025-05-08T12:44:04.085503Z",
     "shell.execute_reply.started": "2025-05-08T12:44:04.080457Z"
    }
   },
   "outputs": [
    {
     "name": "stdout",
     "output_type": "stream",
     "text": [
      "\n",
      "Model Comparison:\n",
      "Random Forest - RMSE: 10.247284853648168, MAE: 6.610676435321256, R-squared: 0.8239223534008356\n",
      "Ridge Regression - RMSE: 21.73938620936073, MAE: 17.20804751910605, R-squared: 0.20753304209828116\n",
      "SVR - RMSE: 11.04582978339315, MAE: 6.6826756470985265, R-squared: 0.7954105192621133\n"
     ]
    }
   ],
   "source": [
    "# Model Comparison\n",
    "print(\"\\nModel Comparison:\")\n",
    "print(f\"Random Forest - RMSE: {rmse_rf}, MAE: {mae_rf}, R-squared: {r2_rf}\")\n",
    "print(f\"Ridge Regression - RMSE: {rmse_ridge}, MAE: {mae_ridge}, R-squared: {r2_ridge}\")\n",
    "print(f\"SVR - RMSE: {rmse_svr}, MAE: {mae_svr}, R-squared: {r2_svr}\")"
   ]
  },
  {
   "cell_type": "code",
   "execution_count": 43,
   "id": "98600e3a-69b2-4494-ad4e-955564452e17",
   "metadata": {
    "execution": {
     "iopub.execute_input": "2025-05-08T12:44:05.697700Z",
     "iopub.status.busy": "2025-05-08T12:44:05.697308Z",
     "iopub.status.idle": "2025-05-08T12:44:05.718851Z",
     "shell.execute_reply": "2025-05-08T12:44:05.718224Z",
     "shell.execute_reply.started": "2025-05-08T12:44:05.697673Z"
    }
   },
   "outputs": [
    {
     "data": {
      "text/html": [
       "<div>\n",
       "<style scoped>\n",
       "    .dataframe tbody tr th:only-of-type {\n",
       "        vertical-align: middle;\n",
       "    }\n",
       "\n",
       "    .dataframe tbody tr th {\n",
       "        vertical-align: top;\n",
       "    }\n",
       "\n",
       "    .dataframe thead th {\n",
       "        text-align: right;\n",
       "    }\n",
       "</style>\n",
       "<table border=\"1\" class=\"dataframe\">\n",
       "  <thead>\n",
       "    <tr style=\"text-align: right;\">\n",
       "      <th></th>\n",
       "      <th>Sensor 2</th>\n",
       "      <th>Sensor 3</th>\n",
       "      <th>Sensor 4</th>\n",
       "      <th>Sensor 7</th>\n",
       "      <th>Sensor 9</th>\n",
       "      <th>Sensor 11</th>\n",
       "      <th>Sensor 12</th>\n",
       "      <th>Sensor 14</th>\n",
       "      <th>Sensor 15</th>\n",
       "      <th>Sensor 17</th>\n",
       "      <th>...</th>\n",
       "      <th>Sensor 15_lag_1</th>\n",
       "      <th>Sensor 17_rolling_mean_10</th>\n",
       "      <th>Sensor 17_diff</th>\n",
       "      <th>Sensor 17_lag_1</th>\n",
       "      <th>Sensor 20_rolling_mean_10</th>\n",
       "      <th>Sensor 20_diff</th>\n",
       "      <th>Sensor 20_lag_1</th>\n",
       "      <th>Sensor 21_rolling_mean_10</th>\n",
       "      <th>Sensor 21_diff</th>\n",
       "      <th>Sensor 21_lag_1</th>\n",
       "    </tr>\n",
       "  </thead>\n",
       "  <tbody>\n",
       "    <tr>\n",
       "      <th>137</th>\n",
       "      <td>0.858020</td>\n",
       "      <td>0.286544</td>\n",
       "      <td>0.407294</td>\n",
       "      <td>-0.132943</td>\n",
       "      <td>-0.925343</td>\n",
       "      <td>0.482346</td>\n",
       "      <td>-0.519907</td>\n",
       "      <td>-0.984632</td>\n",
       "      <td>0.532022</td>\n",
       "      <td>0.509632</td>\n",
       "      <td>...</td>\n",
       "      <td>0.349484</td>\n",
       "      <td>1.003589</td>\n",
       "      <td>-0.000082</td>\n",
       "      <td>0.257070</td>\n",
       "      <td>-0.405780</td>\n",
       "      <td>0.634246</td>\n",
       "      <td>-0.198082</td>\n",
       "      <td>-0.288972</td>\n",
       "      <td>1.263531</td>\n",
       "      <td>-0.520069</td>\n",
       "    </tr>\n",
       "    <tr>\n",
       "      <th>9925</th>\n",
       "      <td>-0.361938</td>\n",
       "      <td>-0.780141</td>\n",
       "      <td>-2.084813</td>\n",
       "      <td>1.301980</td>\n",
       "      <td>0.020656</td>\n",
       "      <td>-1.389703</td>\n",
       "      <td>1.161332</td>\n",
       "      <td>-0.118104</td>\n",
       "      <td>-0.507848</td>\n",
       "      <td>-0.781740</td>\n",
       "      <td>...</td>\n",
       "      <td>0.115691</td>\n",
       "      <td>-0.922396</td>\n",
       "      <td>0.563127</td>\n",
       "      <td>-0.696770</td>\n",
       "      <td>0.836931</td>\n",
       "      <td>0.585464</td>\n",
       "      <td>0.509393</td>\n",
       "      <td>0.885796</td>\n",
       "      <td>-0.871171</td>\n",
       "      <td>0.866984</td>\n",
       "    </tr>\n",
       "    <tr>\n",
       "      <th>18471</th>\n",
       "      <td>-0.421936</td>\n",
       "      <td>2.121437</td>\n",
       "      <td>1.449468</td>\n",
       "      <td>-1.341893</td>\n",
       "      <td>-0.428569</td>\n",
       "      <td>0.819315</td>\n",
       "      <td>-1.455435</td>\n",
       "      <td>-0.544815</td>\n",
       "      <td>0.971967</td>\n",
       "      <td>0.509632</td>\n",
       "      <td>...</td>\n",
       "      <td>-0.427913</td>\n",
       "      <td>-0.212823</td>\n",
       "      <td>1.689544</td>\n",
       "      <td>-0.696770</td>\n",
       "      <td>0.511255</td>\n",
       "      <td>-1.219462</td>\n",
       "      <td>0.171035</td>\n",
       "      <td>0.336898</td>\n",
       "      <td>-1.160526</td>\n",
       "      <td>0.223215</td>\n",
       "    </tr>\n",
       "    <tr>\n",
       "      <th>18332</th>\n",
       "      <td>-0.341939</td>\n",
       "      <td>-0.682280</td>\n",
       "      <td>0.057310</td>\n",
       "      <td>0.183418</td>\n",
       "      <td>-0.657257</td>\n",
       "      <td>-0.191592</td>\n",
       "      <td>0.456296</td>\n",
       "      <td>-0.710467</td>\n",
       "      <td>0.113408</td>\n",
       "      <td>0.509632</td>\n",
       "      <td>...</td>\n",
       "      <td>0.013855</td>\n",
       "      <td>-0.010088</td>\n",
       "      <td>0.563127</td>\n",
       "      <td>-0.060877</td>\n",
       "      <td>-0.054393</td>\n",
       "      <td>0.878155</td>\n",
       "      <td>-0.444161</td>\n",
       "      <td>-0.340191</td>\n",
       "      <td>-0.857315</td>\n",
       "      <td>0.408908</td>\n",
       "    </tr>\n",
       "    <tr>\n",
       "      <th>19502</th>\n",
       "      <td>0.198043</td>\n",
       "      <td>-1.163430</td>\n",
       "      <td>0.459514</td>\n",
       "      <td>-0.969039</td>\n",
       "      <td>1.080772</td>\n",
       "      <td>0.257700</td>\n",
       "      <td>-0.221623</td>\n",
       "      <td>0.954964</td>\n",
       "      <td>-0.126562</td>\n",
       "      <td>0.509632</td>\n",
       "      <td>...</td>\n",
       "      <td>0.751091</td>\n",
       "      <td>1.713162</td>\n",
       "      <td>-1.126499</td>\n",
       "      <td>0.892963</td>\n",
       "      <td>-1.425659</td>\n",
       "      <td>0.048865</td>\n",
       "      <td>-0.474920</td>\n",
       "      <td>-1.796806</td>\n",
       "      <td>0.534032</td>\n",
       "      <td>-0.488779</td>\n",
       "    </tr>\n",
       "  </tbody>\n",
       "</table>\n",
       "<p>5 rows × 48 columns</p>\n",
       "</div>"
      ],
      "text/plain": [
       "       Sensor 2  Sensor 3  Sensor 4  Sensor 7  Sensor 9  Sensor 11  Sensor 12  \\\n",
       "137    0.858020  0.286544  0.407294 -0.132943 -0.925343   0.482346  -0.519907   \n",
       "9925  -0.361938 -0.780141 -2.084813  1.301980  0.020656  -1.389703   1.161332   \n",
       "18471 -0.421936  2.121437  1.449468 -1.341893 -0.428569   0.819315  -1.455435   \n",
       "18332 -0.341939 -0.682280  0.057310  0.183418 -0.657257  -0.191592   0.456296   \n",
       "19502  0.198043 -1.163430  0.459514 -0.969039  1.080772   0.257700  -0.221623   \n",
       "\n",
       "       Sensor 14  Sensor 15  Sensor 17  ...  Sensor 15_lag_1  \\\n",
       "137    -0.984632   0.532022   0.509632  ...         0.349484   \n",
       "9925   -0.118104  -0.507848  -0.781740  ...         0.115691   \n",
       "18471  -0.544815   0.971967   0.509632  ...        -0.427913   \n",
       "18332  -0.710467   0.113408   0.509632  ...         0.013855   \n",
       "19502   0.954964  -0.126562   0.509632  ...         0.751091   \n",
       "\n",
       "       Sensor 17_rolling_mean_10  Sensor 17_diff  Sensor 17_lag_1  \\\n",
       "137                     1.003589       -0.000082         0.257070   \n",
       "9925                   -0.922396        0.563127        -0.696770   \n",
       "18471                  -0.212823        1.689544        -0.696770   \n",
       "18332                  -0.010088        0.563127        -0.060877   \n",
       "19502                   1.713162       -1.126499         0.892963   \n",
       "\n",
       "       Sensor 20_rolling_mean_10  Sensor 20_diff  Sensor 20_lag_1  \\\n",
       "137                    -0.405780        0.634246        -0.198082   \n",
       "9925                    0.836931        0.585464         0.509393   \n",
       "18471                   0.511255       -1.219462         0.171035   \n",
       "18332                  -0.054393        0.878155        -0.444161   \n",
       "19502                  -1.425659        0.048865        -0.474920   \n",
       "\n",
       "       Sensor 21_rolling_mean_10  Sensor 21_diff  Sensor 21_lag_1  \n",
       "137                    -0.288972        1.263531        -0.520069  \n",
       "9925                    0.885796       -0.871171         0.866984  \n",
       "18471                   0.336898       -1.160526         0.223215  \n",
       "18332                  -0.340191       -0.857315         0.408908  \n",
       "19502                  -1.796806        0.534032        -0.488779  \n",
       "\n",
       "[5 rows x 48 columns]"
      ]
     },
     "execution_count": 43,
     "metadata": {},
     "output_type": "execute_result"
    }
   ],
   "source": [
    "X_test.head()"
   ]
  },
  {
   "cell_type": "code",
   "execution_count": 44,
   "id": "3d886b01-1ca4-4d81-85f5-678314d68bd6",
   "metadata": {
    "execution": {
     "iopub.execute_input": "2025-05-08T12:44:06.489717Z",
     "iopub.status.busy": "2025-05-08T12:44:06.489224Z",
     "iopub.status.idle": "2025-05-08T12:44:06.755144Z",
     "shell.execute_reply": "2025-05-08T12:44:06.754588Z",
     "shell.execute_reply.started": "2025-05-08T12:44:06.489682Z"
    }
   },
   "outputs": [
    {
     "name": "stdout",
     "output_type": "stream",
     "text": [
      "Models and test data saved successfully.\n"
     ]
    }
   ],
   "source": [
    "import joblib\n",
    "\n",
    "# Save models\n",
    "joblib.dump(rf, 'random_forest_model.pkl')\n",
    "joblib.dump(ridge, 'ridge_model.pkl')\n",
    "joblib.dump(svr, 'svr_model.pkl')\n",
    "\n",
    "# Save test data\n",
    "X_test.to_csv('X_test.csv', index=False)\n",
    "y_test.to_csv('y_test.csv', index=False)\n",
    "\n",
    "print(\"Models and test data saved successfully.\")\n"
   ]
  },
  {
   "cell_type": "code",
   "execution_count": 45,
   "id": "abc854ec-2433-4da4-8b9a-901d5f55b5c2",
   "metadata": {
    "execution": {
     "iopub.execute_input": "2025-05-08T12:44:09.118801Z",
     "iopub.status.busy": "2025-05-08T12:44:09.118415Z",
     "iopub.status.idle": "2025-05-08T12:44:18.396785Z",
     "shell.execute_reply": "2025-05-08T12:44:18.396318Z",
     "shell.execute_reply.started": "2025-05-08T12:44:09.118777Z"
    }
   },
   "outputs": [
    {
     "name": "stdout",
     "output_type": "stream",
     "text": [
      "\n",
      "Classifier Evaluation:\n",
      "[[855 115   0   0   0]\n",
      " [ 90 854 114   0   0]\n",
      " [ 11 130 924  56   0]\n",
      " [  0   6  82 459  36]\n",
      " [  0   0   0  34 360]]\n",
      "              precision    recall  f1-score   support\n",
      "\n",
      "           0       0.89      0.88      0.89       970\n",
      "           1       0.77      0.81      0.79      1058\n",
      "           2       0.82      0.82      0.82      1121\n",
      "           3       0.84      0.79      0.81       583\n",
      "           4       0.91      0.91      0.91       394\n",
      "\n",
      "    accuracy                           0.84      4126\n",
      "   macro avg       0.85      0.84      0.84      4126\n",
      "weighted avg       0.84      0.84      0.84      4126\n",
      "\n",
      "✅ Classifier model saved as classifier_model.pkl\n"
     ]
    }
   ],
   "source": [
    "from sklearn.ensemble import RandomForestClassifier\n",
    "from sklearn.metrics import classification_report, confusion_matrix\n",
    "\n",
    "# Prepare data for classification\n",
    "X_cls = df.drop(['Stage', 'time_to_next_stage', 'Num cycles'], axis=1)\n",
    "y_cls = df['Stage']\n",
    "\n",
    "# Split data for classifier\n",
    "X_train_cls, X_test_cls, y_train_cls, y_test_cls = train_test_split(X_cls, y_cls, test_size=0.2, random_state=42)\n",
    "\n",
    "# Initialize classifier\n",
    "clf = RandomForestClassifier(n_estimators=100, random_state=42)\n",
    "clf.fit(X_train_cls, y_train_cls)\n",
    "\n",
    "# Evaluate classifier\n",
    "y_pred_cls = clf.predict(X_test_cls)\n",
    "print(\"\\nClassifier Evaluation:\")\n",
    "print(confusion_matrix(y_test_cls, y_pred_cls))\n",
    "print(classification_report(y_test_cls, y_pred_cls))\n",
    "\n",
    "# Save classifier\n",
    "joblib.dump(clf, 'classifier_model.pkl')\n",
    "print(\"✅ Classifier model saved as classifier_model.pkl\")\n"
   ]
  },
  {
   "cell_type": "raw",
   "id": "352b0a91-540d-4578-a112-df1967939df8",
   "metadata": {},
   "source": [
    "\n"
   ]
  },
  {
   "cell_type": "code",
   "execution_count": null,
   "id": "4801aaab-32dd-4e25-90ba-dbf72b3bc488",
   "metadata": {},
   "outputs": [],
   "source": []
  }
 ],
 "metadata": {
  "kernelspec": {
   "display_name": "Python 3 (ipykernel)",
   "language": "python",
   "name": "python3"
  },
  "language_info": {
   "codemirror_mode": {
    "name": "ipython",
    "version": 3
   },
   "file_extension": ".py",
   "mimetype": "text/x-python",
   "name": "python",
   "nbconvert_exporter": "python",
   "pygments_lexer": "ipython3",
   "version": "3.13.0"
  }
 },
 "nbformat": 4,
 "nbformat_minor": 5
}
